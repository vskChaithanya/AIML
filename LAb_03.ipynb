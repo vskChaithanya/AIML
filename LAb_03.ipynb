{
  "nbformat": 4,
  "nbformat_minor": 0,
  "metadata": {
    "colab": {
      "provenance": [],
      "authorship_tag": "ABX9TyN/UjtlKc29dlhX0WChPOFo",
      "include_colab_link": true
    },
    "kernelspec": {
      "name": "python3",
      "display_name": "Python 3"
    },
    "language_info": {
      "name": "python"
    }
  },
  "cells": [
    {
      "cell_type": "markdown",
      "metadata": {
        "id": "view-in-github",
        "colab_type": "text"
      },
      "source": [
        "<a href=\"https://colab.research.google.com/github/vskChaithanya/AIML/blob/main/LAb_03.ipynb\" target=\"_parent\"><img src=\"https://colab.research.google.com/assets/colab-badge.svg\" alt=\"Open In Colab\"/></a>"
      ]
    },
    {
      "cell_type": "code",
      "execution_count": 2,
      "metadata": {
        "id": "9AXTxoD3xgm9"
      },
      "outputs": [],
      "source": [
        "import numpy as np\n",
        "graph1={\n",
        "    'A':['C','D','G'],\n",
        "    'B':['A'],\n",
        "    'C':['A','D','F'],\n",
        "    'D':['A','C','E','G','H'],\n",
        "    'E':['D','F','H'],\n",
        "    'F':['C','E'],\n",
        "    'G':['A','D','H'],\n",
        "    'H':['D','E','G'],\n",
        "}"
      ]
    },
    {
      "cell_type": "code",
      "source": [
        "print(\"The Adjacent list representing the graph is  : \")\n",
        "print(graph1)"
      ],
      "metadata": {
        "colab": {
          "base_uri": "https://localhost:8080/"
        },
        "id": "vQGwysgNyusD",
        "outputId": "24984258-2b6e-430b-a6dd-ec36695eafe0"
      },
      "execution_count": 3,
      "outputs": [
        {
          "output_type": "stream",
          "name": "stdout",
          "text": [
            "The Adjacent list representing the graph is  : \n",
            "{'A': ['C', 'D', 'G'], 'B': ['A'], 'C': ['A', 'D', 'F'], 'D': ['A', 'C', 'E', 'G', 'H'], 'E': ['D', 'F', 'H'], 'F': ['C', 'E'], 'G': ['A', 'D', 'H'], 'H': ['D', 'E', 'G']}\n"
          ]
        }
      ]
    },
    {
      "cell_type": "code",
      "source": [
        "#define DFS function\n",
        "def dfs(graph,node,visited):\n",
        "    if node not in visited:\n",
        "        visited.append(node)\n",
        "        for k in graph[node]:\n",
        "            dfs(graph,k,visited)\n",
        "    return visited"
      ],
      "metadata": {
        "id": "Gsnw7A8WzBcS"
      },
      "execution_count": 4,
      "outputs": []
    },
    {
      "cell_type": "code",
      "source": [
        "visited = dfs(graph1,'B',[ ])\n",
        "print(visited)"
      ],
      "metadata": {
        "colab": {
          "base_uri": "https://localhost:8080/"
        },
        "id": "c2wbUl4I1ivU",
        "outputId": "2d020701-5471-464a-d5ec-3a87792029e8"
      },
      "execution_count": 5,
      "outputs": [
        {
          "output_type": "stream",
          "name": "stdout",
          "text": [
            "['B', 'A', 'C', 'D', 'E', 'F', 'H', 'G']\n"
          ]
        }
      ]
    },
    {
      "cell_type": "code",
      "source": [
        "import numpy as np\n",
        "from queue import Queue\n",
        "import heapq"
      ],
      "metadata": {
        "id": "35BUR0AW7B66"
      },
      "execution_count": 6,
      "outputs": []
    },
    {
      "cell_type": "code",
      "source": [
        "def bestFirstSearch(initial_state,goal_state,evaluation_function):\n",
        "  priority_queue =[]\n",
        "  heapq.heappush(priority_queue,(evaluation_function(initial_state),initial_state))\n",
        "  while priority_queue:\n",
        "    current_state = heapq.heappop(priority_queue)[1]\n",
        "    if current_state == goal_state:\n",
        "      return current_state\n",
        "    next_state = generateNextState(current_state)\n",
        "    for next_state in next_state:\n",
        "      priority_value = evaluation_function(next_state)\n",
        "      heapq.heappush(priority_queue,(priority_value,next_state))\n",
        "  return \"No solution found\""
      ],
      "metadata": {
        "id": "mIh5vgtD7ONh"
      },
      "execution_count": 7,
      "outputs": []
    },
    {
      "cell_type": "code",
      "source": [
        "def evaluationfunction(state):\n",
        "  return abs(state[0]-goal_state[0])+abs(state[1]-goal_state[1])"
      ],
      "metadata": {
        "id": "1BQ77HUn9I-Y"
      },
      "execution_count": 8,
      "outputs": []
    },
    {
      "cell_type": "code",
      "source": [
        "def generateNextState(state):\n",
        "  x,y=state\n",
        "  next_states = [(x+1,y),(x-1,y),(x,y+1),(x,y-1)]\n",
        "  return [s for s in next_states if 0<=s[0]<=4 and 0<=s[1]<=4]\n",
        "\n",
        "intital_state = (0,0) #staring\n",
        "goal_state = (4,4) #goal\n",
        "\n",
        "solution = bestFirstSearch(intital_state,goal_state,evaluationfunction)\n",
        "print(\"Solution = \",solution)"
      ],
      "metadata": {
        "id": "eEj9Fmce9j-x",
        "colab": {
          "base_uri": "https://localhost:8080/"
        },
        "outputId": "f0a5b74d-51a9-4bf5-d86a-9c525f649a73"
      },
      "execution_count": 9,
      "outputs": [
        {
          "output_type": "stream",
          "name": "stdout",
          "text": [
            "Solution =  (4, 4)\n"
          ]
        }
      ]
    },
    {
      "cell_type": "code",
      "source": [],
      "metadata": {
        "id": "7444WVJrKF5X"
      },
      "execution_count": null,
      "outputs": []
    }
  ]
}